{
  "nbformat": 4,
  "nbformat_minor": 0,
  "metadata": {
    "colab": {
      "provenance": [],
      "authorship_tag": "ABX9TyMbqxHSP6YunllykXZFyGPP",
      "include_colab_link": true
    },
    "kernelspec": {
      "name": "python3",
      "display_name": "Python 3"
    },
    "language_info": {
      "name": "python"
    }
  },
  "cells": [
    {
      "cell_type": "markdown",
      "metadata": {
        "id": "view-in-github",
        "colab_type": "text"
      },
      "source": [
        "<a href=\"https://colab.research.google.com/github/15483114/DockerQuest/blob/main/2015_Flight_Delays_and_Cancellations.ipynb\" target=\"_parent\"><img src=\"https://colab.research.google.com/assets/colab-badge.svg\" alt=\"Open In Colab\"/></a>"
      ]
    },
    {
      "cell_type": "markdown",
      "source": [
        "# **2015 Flight Delays and Cancellations**\n",
        "\n",
        "Neste notebook será analisado o dataset de atrasos e cancelamentos de voos em 2015.\n",
        "\n",
        "O objetivo é descobrir se é possível obter um bom modelo de classificação para prever se um vôo irá atrasar ou não dadas as variaáveis coletadas para a criação do dataset."
      ],
      "metadata": {
        "id": "rV3yx6PJySVT"
      }
    },
    {
      "cell_type": "markdown",
      "source": [
        "# Importando Dataset"
      ],
      "metadata": {
        "id": "j8NYK3ZzL_f9"
      }
    },
    {
      "cell_type": "code",
      "execution_count": null,
      "metadata": {
        "id": "9LTaLJ1VLNlI",
        "colab": {
          "base_uri": "https://localhost:8080/"
        },
        "outputId": "76268897-b16c-4c8d-9fc4-b8c11d26a925"
      },
      "outputs": [
        {
          "output_type": "stream",
          "name": "stderr",
          "text": [
            "b'Skipping line 1848378: expected 31 fields, saw 42\\n'\n",
            "/usr/local/lib/python3.7/dist-packages/IPython/core/interactiveshell.py:3326: DtypeWarning: Columns (5) have mixed types.Specify dtype option on import or set low_memory=False.\n",
            "  exec(code_obj, self.user_global_ns, self.user_ns)\n"
          ]
        }
      ],
      "source": [
        "import pandas as pd\n",
        "\n",
        "# airlines = pd.read_csv('/content/airlines.csv')\n",
        "# airports = pd.read_csv('/content/airports.csv')\n",
        "flights = pd.read_csv('/content/flights.csv', error_bad_lines=False)"
      ]
    },
    {
      "cell_type": "markdown",
      "source": [
        "# Explorando os datasets"
      ],
      "metadata": {
        "id": "sQKUo2IoMWB0"
      }
    },
    {
      "cell_type": "code",
      "source": [
        "flights['DIVERTED'].describe()"
      ],
      "metadata": {
        "id": "0DeLUGFIMZ-C"
      },
      "execution_count": null,
      "outputs": []
    },
    {
      "cell_type": "code",
      "source": [
        "flights[[\"DIVERTED\"]].value_counts(sort = False)"
      ],
      "metadata": {
        "id": "g9l8MyW29RA4"
      },
      "execution_count": null,
      "outputs": []
    },
    {
      "cell_type": "code",
      "source": [
        "flights.info()"
      ],
      "metadata": {
        "colab": {
          "base_uri": "https://localhost:8080/"
        },
        "id": "4JPAVs_r8PNt",
        "outputId": "0a99dc16-6c11-4789-d962-0ce3fc6dcfa4"
      },
      "execution_count": null,
      "outputs": [
        {
          "output_type": "stream",
          "name": "stdout",
          "text": [
            "<class 'pandas.core.frame.DataFrame'>\n",
            "Int64Index: 1363989 entries, 0 to 1372159\n",
            "Data columns (total 25 columns):\n",
            " #   Column               Non-Null Count    Dtype  \n",
            "---  ------               --------------    -----  \n",
            " 0   MONTH                1363989 non-null  int64  \n",
            " 1   DAY                  1363989 non-null  int64  \n",
            " 2   DAY_OF_WEEK          1363989 non-null  int64  \n",
            " 3   AIRLINE              1363989 non-null  int64  \n",
            " 4   FLIGHT_NUMBER        1363989 non-null  int64  \n",
            " 5   TAIL_NUMBER          1363989 non-null  int64  \n",
            " 6   ORIGIN_AIRPORT       1363989 non-null  int64  \n",
            " 7   DESTINATION_AIRPORT  1363989 non-null  int64  \n",
            " 8   SCHEDULED_DEPARTURE  1363989 non-null  int64  \n",
            " 9   DEPARTURE_TIME       1363989 non-null  float64\n",
            " 10  DEPARTURE_DELAY      1363989 non-null  float64\n",
            " 11  TAXI_OUT             1363989 non-null  float64\n",
            " 12  WHEELS_OFF           1363989 non-null  float64\n",
            " 13  SCHEDULED_TIME       1363989 non-null  float64\n",
            " 14  ELAPSED_TIME         1363989 non-null  float64\n",
            " 15  AIR_TIME             1363989 non-null  float64\n",
            " 16  DISTANCE             1363989 non-null  int64  \n",
            " 17  WHEELS_ON            1363989 non-null  float64\n",
            " 18  TAXI_IN              1363989 non-null  float64\n",
            " 19  SCHEDULED_ARRIVAL    1363989 non-null  int64  \n",
            " 20  ARRIVAL_TIME         1363989 non-null  float64\n",
            " 21  ARRIVAL_DELAY        1363989 non-null  float64\n",
            " 22  DIVERTED             1363989 non-null  int64  \n",
            " 23  CANCELLED            1363989 non-null  float64\n",
            " 24  atrasado             1363989 non-null  int64  \n",
            "dtypes: float64(12), int64(13)\n",
            "memory usage: 270.6 MB\n"
          ]
        }
      ]
    },
    {
      "cell_type": "code",
      "source": [
        "from matplotlib import pyplot as plt\n",
        "departures = flights['DEPARTURE_TIME']\n",
        "fig, ax = plt.subplots(figsize =(10, 10))\n",
        "ax.hist(departures)\n",
        " \n",
        "# Show plot\n",
        "plt.show()"
      ],
      "metadata": {
        "id": "Pnigcl5LS3xi"
      },
      "execution_count": null,
      "outputs": []
    },
    {
      "cell_type": "code",
      "source": [
        "pd.plotting.scatter_matrix(flights)"
      ],
      "metadata": {
        "id": "NlaSdWhp5Trn"
      },
      "execution_count": null,
      "outputs": []
    },
    {
      "cell_type": "markdown",
      "source": [
        "# Lidando com a falta de dados"
      ],
      "metadata": {
        "id": "sw2b2c6zg3CO"
      }
    },
    {
      "cell_type": "code",
      "source": [
        "# Porcentagem de dados faltantes\n",
        "flights.isnull().mean().round(4)*100"
      ],
      "metadata": {
        "colab": {
          "base_uri": "https://localhost:8080/",
          "height": 187
        },
        "id": "iTKCPnvHpyUx",
        "outputId": "433bd79e-4726-43d9-9627-e7fd3132a2c6"
      },
      "execution_count": 1,
      "outputs": [
        {
          "output_type": "error",
          "ename": "NameError",
          "evalue": "ignored",
          "traceback": [
            "\u001b[0;31m---------------------------------------------------------------------------\u001b[0m",
            "\u001b[0;31mNameError\u001b[0m                                 Traceback (most recent call last)",
            "\u001b[0;32m<ipython-input-1-d25168f4b532>\u001b[0m in \u001b[0;36m<module>\u001b[0;34m\u001b[0m\n\u001b[1;32m      1\u001b[0m \u001b[0;31m# Porcentagem de dados faltantes\u001b[0m\u001b[0;34m\u001b[0m\u001b[0;34m\u001b[0m\u001b[0;34m\u001b[0m\u001b[0m\n\u001b[0;32m----> 2\u001b[0;31m \u001b[0mflights\u001b[0m\u001b[0;34m.\u001b[0m\u001b[0misnull\u001b[0m\u001b[0;34m(\u001b[0m\u001b[0;34m)\u001b[0m\u001b[0;34m.\u001b[0m\u001b[0mmean\u001b[0m\u001b[0;34m(\u001b[0m\u001b[0;34m)\u001b[0m\u001b[0;34m.\u001b[0m\u001b[0mround\u001b[0m\u001b[0;34m(\u001b[0m\u001b[0;36m4\u001b[0m\u001b[0;34m)\u001b[0m\u001b[0;34m*\u001b[0m\u001b[0;36m100\u001b[0m\u001b[0;34m\u001b[0m\u001b[0;34m\u001b[0m\u001b[0m\n\u001b[0m",
            "\u001b[0;31mNameError\u001b[0m: name 'flights' is not defined"
          ]
        }
      ]
    },
    {
      "cell_type": "code",
      "source": [
        "#tirando colunas com mais de 80% das dados faltando\n",
        "flights = flights.drop(['YEAR'], axis=1) # tirando year também porque é uma constante basicamente\n",
        "flights = flights.drop(['CANCELLATION_REASON'], axis=1)\n",
        "flights = flights.drop(['AIR_SYSTEM_DELAY'], axis=1)\n",
        "flights = flights.drop(['SECURITY_DELAY'], axis=1)\n",
        "flights = flights.drop(['AIRLINE_DELAY'], axis=1)\n",
        "flights = flights.drop(['LATE_AIRCRAFT_DELAY'], axis=1)\n",
        "flights = flights.drop(['WEATHER_DELAY'], axis=1)"
      ],
      "metadata": {
        "id": "rwNCJ85Jpzob"
      },
      "execution_count": null,
      "outputs": []
    },
    {
      "cell_type": "code",
      "source": [
        "flights.columns"
      ],
      "metadata": {
        "id": "dbMkkIuxVSpg"
      },
      "execution_count": null,
      "outputs": []
    },
    {
      "cell_type": "code",
      "source": [
        "# Procurando outliers nas colunas com alguma porcentagem de valores faltantes\n",
        "\n",
        "import plotly.express as px\n",
        "# df = px.flights.tips()\n",
        "missing_values = [\"DEPARTURE_TIME\", \"DEPARTURE_DELAY\",\"TAXI_OUT\", \"WHEELS_OFF\", \"ELAPSED_TIME\", \"AIR_TIME\", \"WHEELS_ON\", \"TAXI_IN\", \"ARRIVAL_TIME\", \"ARRIVAL_DELAY\" ]\n",
        "\n",
        "for yvar in missing_values:\n",
        "  fig = px.box(flights, y= yvar)\n",
        "  fig.show()\n"
      ],
      "metadata": {
        "id": "mGZ7nprhumdn"
      },
      "execution_count": null,
      "outputs": []
    },
    {
      "cell_type": "markdown",
      "source": [
        "A estratégia escolhida para lidar com a falta de dados é a substituição dos valores nulos pela média ou mediana dependendo a quantidade de outliers encontrados nos dados.\n",
        "\n",
        "As features sem outliers receberão a média, estas são: departure_time, wheels_of, wheels_on, arrival_time\n",
        "\n",
        "As features com outliers receberão a mediana, estas são: departure_delay, taxi_out, elapsed_time, air_time, taxi_in, arrival_delay"
      ],
      "metadata": {
        "id": "c_SzjTyW4VtM"
      }
    },
    {
      "cell_type": "code",
      "source": [
        "from sklearn.impute import SimpleImputer\n",
        "import numpy as np\n",
        "# imputer = SimpleImputer(missing_values=np.nan, strategy='mean')\n",
        "# imputer.fit(flights['DEPARTURE_TIME', 'WHEELS_OF', 'WHEELS_ON', 'ARRIVAL_TIME'])\n",
        "\n",
        "flights['DEPARTURE_TIME'] = flights['DEPARTURE_TIME'].fillna(flights['DEPARTURE_TIME'].mean())\n",
        "flights['WHEELS_OFF'] = flights['WHEELS_OFF'].fillna(flights['WHEELS_OFF'].mean())\n",
        "flights['WHEELS_ON'] = flights['WHEELS_ON'].fillna(flights['WHEELS_ON'].mean())\n",
        "flights['ARRIVAL_TIME'] = flights['ARRIVAL_TIME'].fillna(flights['ARRIVAL_TIME'].mean())\n",
        "\n",
        "flights['DEPARTURE_TIME'] = flights['DEPARTURE_TIME'].fillna(flights['DEPARTURE_TIME'].median())\n",
        "flights['TAXI_OUT'] = flights['TAXI_OUT'].fillna(flights['TAXI_OUT'].median())\n",
        "flights['ELAPSED_TIME'] = flights['ELAPSED_TIME'].fillna(flights['ELAPSED_TIME'].median())\n",
        "flights['AIR_TIME'] = flights['AIR_TIME'].fillna(flights['AIR_TIME'].median())\n",
        "flights['TAXI_IN'] = flights['TAXI_IN'].fillna(flights['TAXI_IN'].median())\n",
        "flights['ARRIVAL_DELAY'] = flights['ARRIVAL_DELAY'].fillna(flights['ARRIVAL_DELAY'].median())\n",
        "flights['DEPARTURE_DELAY'] = flights['DEPARTURE_DELAY'].fillna(flights['DEPARTURE_DELAY'].median())"
      ],
      "metadata": {
        "id": "C2yt229BO24f"
      },
      "execution_count": null,
      "outputs": []
    },
    {
      "cell_type": "code",
      "source": [
        "#medias\n",
        "list(flights.columns).index('DEPARTURE_TIME',)\n",
        "list(flights.columns).index('WHEELS_OFF',)\n",
        "list(flights.columns).index('WHEELS_ON',)\n",
        "list(flights.columns).index('ARRIVAL_TIME',)\n",
        "# # mediana\n",
        "list(flights.columns).index('DEPARTURE_DELAY',)\n",
        "list(flights.columns).index('TAXI_OUT',)\n",
        "list(flights.columns).index('ELAPSED_TIME',)\n",
        "list(flights.columns).index('AIR_TIME',)\n",
        "list(flights.columns).index('TAXI_IN',)\n",
        "list(flights.columns).index('ARRIVAL_DELAY',)"
      ],
      "metadata": {
        "id": "ohNuVXq4Zx30"
      },
      "execution_count": null,
      "outputs": []
    },
    {
      "cell_type": "code",
      "source": [
        "#verificando resultados das substituições\n",
        "flights.isnull().mean().round(4)*100"
      ],
      "metadata": {
        "id": "3-3agfwMRoUY"
      },
      "execution_count": null,
      "outputs": []
    },
    {
      "cell_type": "code",
      "source": [
        "# dropping all nan from tail number\n",
        "flights.dropna(inplace=True)"
      ],
      "metadata": {
        "id": "_gyEjOIUKH2g"
      },
      "execution_count": null,
      "outputs": []
    },
    {
      "cell_type": "code",
      "source": [
        "# Vendo a matriz de correlação após tratamento\n",
        "\n",
        "import plotly.express as px\n",
        "fig = px.imshow(flights.corr())\n",
        "fig.show()"
      ],
      "metadata": {
        "id": "oaV5xGmNOwwI"
      },
      "execution_count": null,
      "outputs": []
    },
    {
      "cell_type": "markdown",
      "source": [
        "Sabendo que a variável target é ARRIVAL_DELAY estas são as vari\n",
        "\n",
        "TAXI_OUT : 0,227 \n",
        "\n",
        "DEPARTURE_DELAY: 0,937\n",
        "\n",
        "DEPARTURE_TIME: 0,159\n",
        "\n",
        "WHEELS_OFF: 0,155\n",
        "\n",
        "SCHEDULED_DEPARTURE: 0,098"
      ],
      "metadata": {
        "id": "VNFZi8BxPTTh"
      }
    },
    {
      "cell_type": "markdown",
      "source": [
        "Removendo variaveis numéricas que não possuem grande correlação com a variável target"
      ],
      "metadata": {
        "id": "fSxoPpWdGL2J"
      }
    },
    {
      "cell_type": "markdown",
      "source": [
        "# Encoding categorical data"
      ],
      "metadata": {
        "id": "rXe0rx0aBNHY"
      }
    },
    {
      "cell_type": "markdown",
      "source": [
        "Dados categóricos restantes:\n",
        "\n",
        "- MONTH                   \n",
        "- DAY                     \n",
        "- DAY_OF_WEEK             \n",
        "- AIRLINE                 \n",
        "- FLIGHT_NUMBER           \n",
        "- TAIL_NUMBER             \n",
        "- ORIGIN_AIRPORT          \n",
        "- DESTINATION_AIRPORT "
      ],
      "metadata": {
        "id": "9seUWg0VUVta"
      }
    },
    {
      "cell_type": "code",
      "source": [
        "list(flights.columns).index('MONTH',)\n",
        "list(flights.columns).index('DAY',)\n",
        "list(flights.columns).index('DAY_OF_WEEK',)\n",
        "# list(flights.columns).index('WHEELS_ON',)\n",
        "# list(flights.columns).index('DESTINATION_AIRPORT',)"
      ],
      "metadata": {
        "id": "-fX2KScOL4dx",
        "colab": {
          "base_uri": "https://localhost:8080/"
        },
        "outputId": "1fce8f04-447c-411b-95df-5f960bd34205"
      },
      "execution_count": null,
      "outputs": [
        {
          "output_type": "execute_result",
          "data": {
            "text/plain": [
              "3"
            ]
          },
          "metadata": {},
          "execution_count": 3
        }
      ]
    },
    {
      "cell_type": "markdown",
      "source": [
        "Criando dummies para month, day e day_of_week por terem poucas categorias"
      ],
      "metadata": {
        "id": "oqHOW9BqRVRP"
      }
    },
    {
      "cell_type": "code",
      "source": [
        "from sklearn.compose import ColumnTransformer\n",
        "from sklearn.preprocessing import OneHotEncoder\n",
        "import numpy as np\n",
        "ct = ColumnTransformer(transformers=[('encoder', OneHotEncoder(), [3])], remainder='passthrough')\n",
        "flights = np.array(ct.fit_transform(flights))\n",
        "# ct = ColumnTransformer(transformers=[('encoder', OneHotEncoder(), [6,7])], remainder='passthrough')\n",
        "# flights = np.array(ct.fit_transform(flights))"
      ],
      "metadata": {
        "id": "tWrL1HYMBRWW"
      },
      "execution_count": null,
      "outputs": []
    },
    {
      "cell_type": "code",
      "source": [
        "from sklearn.preprocessing import LabelEncoder\n",
        "le = LabelEncoder()\n",
        "flights['MONTH'] = le.fit_transform(flights['MONTH'])\n",
        "flights['DAY'] = le.fit_transform(flights['DAY'])\n",
        "flights['DAY_OF_WEEK'] = le.fit_transform(flights['DAY_OF_WEEK'])\n",
        "flights['AIRLINE'] = le.fit_transform(flights['AIRLINE'])\n",
        "flights['FLIGHT_NUMBER'] = le.fit_transform(flights['FLIGHT_NUMBER'])\n",
        "flights['TAIL_NUMBER'] = le.fit_transform(flights['TAIL_NUMBER'])\n",
        "flights['ORIGIN_AIRPORT']=flights['ORIGIN_AIRPORT'].astype(str)\n",
        "flights['ORIGIN_AIRPORT'] = le.fit_transform(flights['ORIGIN_AIRPORT'])\n",
        "flights['DESTINATION_AIRPORT']=flights['DESTINATION_AIRPORT'].astype(str)"
      ],
      "metadata": {
        "id": "rMY6-zoWUm84"
      },
      "execution_count": null,
      "outputs": []
    },
    {
      "cell_type": "code",
      "source": [
        "flights['DAY_OF_WEEK']"
      ],
      "metadata": {
        "id": "0HXVo3pgSPKG"
      },
      "execution_count": null,
      "outputs": []
    },
    {
      "cell_type": "markdown",
      "source": [
        "Tirando variáveis categóricas com categorias demais\n",
        "\n",
        "- Não consegui usar o one hot encoder para criar dummie variables\n",
        "\n"
      ],
      "metadata": {
        "id": "n8QbyMR6FABx"
      }
    },
    {
      "cell_type": "code",
      "source": [
        "flights = flights.drop(['AIRLINE'], axis=1)\n",
        "flights = flights.drop(['FLIGHT_NUMBER'], axis=1)\n",
        "flights = flights.drop(['TAIL_NUMBER'], axis=1)\n",
        "flights = flights.drop(['ORIGIN_AIRPORT'], axis=1)\n",
        "flights = flights.drop(['DESTINATION_AIRPORT'], axis=1)\n"
      ],
      "metadata": {
        "id": "7DFgyUDPVg1g"
      },
      "execution_count": null,
      "outputs": []
    },
    {
      "cell_type": "code",
      "source": [
        "flights.columns"
      ],
      "metadata": {
        "colab": {
          "base_uri": "https://localhost:8080/"
        },
        "id": "MnqCT749b_yt",
        "outputId": "34b7d764-42be-48ce-b819-d8731e1a454e"
      },
      "execution_count": null,
      "outputs": [
        {
          "output_type": "execute_result",
          "data": {
            "text/plain": [
              "Index(['MONTH', 'DAY', 'DAY_OF_WEEK', 'SCHEDULED_DEPARTURE', 'DEPARTURE_TIME',\n",
              "       'DEPARTURE_DELAY', 'TAXI_OUT', 'WHEELS_OFF', 'SCHEDULED_TIME',\n",
              "       'ELAPSED_TIME', 'AIR_TIME', 'DISTANCE', 'WHEELS_ON', 'TAXI_IN',\n",
              "       'SCHEDULED_ARRIVAL', 'ARRIVAL_TIME', 'ARRIVAL_DELAY', 'DIVERTED',\n",
              "       'CANCELLED'],\n",
              "      dtype='object')"
            ]
          },
          "metadata": {},
          "execution_count": 55
        }
      ]
    },
    {
      "cell_type": "markdown",
      "source": [
        "Criando a coluna que indica se o vôo atrasou ou não (0 se sim e 1 caso não)"
      ],
      "metadata": {
        "id": "nzDpEf8AcEL2"
      }
    },
    {
      "cell_type": "code",
      "source": [
        "array=[]\n",
        "for x in flights['ARRIVAL_DELAY']:\n",
        "  variable = 0 if x>0 else 1\n",
        "  array.append(variable)\n",
        "\n",
        "flights['ARRIVAL_DELAY'] = array"
      ],
      "metadata": {
        "id": "FSHBOjnzTDRb"
      },
      "execution_count": null,
      "outputs": []
    },
    {
      "cell_type": "markdown",
      "source": [
        "# Dividindo o dataset em treino e teste"
      ],
      "metadata": {
        "id": "bIr7m2J2A61_"
      }
    },
    {
      "cell_type": "code",
      "source": [
        "from sklearn.model_selection import train_test_split\n",
        "var_indexes =[3,4,5,6,7,8,9,10,11,12,13,14,15,17,18]\n",
        "X = flights.iloc[:, var_indexes].values\n",
        "y = flights['ARRIVAL_DELAY'].values\n",
        "X_train, X_test, y_train, y_test = train_test_split(X, y, test_size = 0.2, random_state = 1)"
      ],
      "metadata": {
        "id": "mXOWcSqrA_E2"
      },
      "execution_count": null,
      "outputs": []
    },
    {
      "cell_type": "code",
      "source": [
        "flights.columns"
      ],
      "metadata": {
        "id": "g1azjEj7Wjaa"
      },
      "execution_count": null,
      "outputs": []
    },
    {
      "cell_type": "markdown",
      "source": [
        "# Feature Scalling"
      ],
      "metadata": {
        "id": "wCknkL05T_5M"
      }
    },
    {
      "cell_type": "code",
      "source": [
        "from sklearn.preprocessing import StandardScaler\n",
        "sc = StandardScaler()\n",
        "X_train = sc.fit_transform(X_train)\n",
        "X_test = sc.transform(X_test)"
      ],
      "metadata": {
        "id": "QC5co5maEGTv"
      },
      "execution_count": null,
      "outputs": []
    },
    {
      "cell_type": "code",
      "source": [
        "X_test"
      ],
      "metadata": {
        "colab": {
          "base_uri": "https://localhost:8080/"
        },
        "id": "VKdgFLB-dlOZ",
        "outputId": "bafb2277-2256-4c51-8145-ed03d209861d"
      },
      "execution_count": null,
      "outputs": [
        {
          "output_type": "execute_result",
          "data": {
            "text/plain": [
              "array([[ 1.2719537 ,  1.23416608, -0.17185834, ...,  1.1921276 ,\n",
              "        -0.05101285, -0.12510682],\n",
              "       [-1.05380666, -0.81061864,  1.71231913, ..., -0.71550618,\n",
              "        -0.05101285, -0.12510682],\n",
              "       [ 0.36645767,  0.37596087,  0.15114351, ...,  0.63161767,\n",
              "        -0.05101285, -0.12510682],\n",
              "       ...,\n",
              "       [ 1.86114633,  1.79018636, -0.41410973, ...,  1.61203503,\n",
              "        -0.05101285, -0.12510682],\n",
              "       [ 1.08589287,  1.03472402, -0.41410973, ...,  1.23012827,\n",
              "        -0.05101285, -0.12510682],\n",
              "       [ 0.40366984,  0.3739463 , -0.36027609, ...,  0.51381559,\n",
              "        -0.05101285, -0.12510682]])"
            ]
          },
          "metadata": {},
          "execution_count": 39
        }
      ]
    },
    {
      "cell_type": "markdown",
      "source": [
        "# Aplicando e selecionando modelos de regressão"
      ],
      "metadata": {
        "id": "HTOA4hhNBAbS"
      }
    },
    {
      "cell_type": "code",
      "source": [
        "# Naive Bayes\n",
        "from sklearn.naive_bayes import GaussianNB\n",
        "classifier = GaussianNB()\n",
        "classifier.fit(X_train, y_train)"
      ],
      "metadata": {
        "colab": {
          "base_uri": "https://localhost:8080/"
        },
        "id": "WN3n8ry5Rvs-",
        "outputId": "9841c75f-9f11-467a-ca90-219a63138281"
      },
      "execution_count": null,
      "outputs": [
        {
          "output_type": "execute_result",
          "data": {
            "text/plain": [
              "GaussianNB()"
            ]
          },
          "metadata": {},
          "execution_count": 16
        }
      ]
    },
    {
      "cell_type": "code",
      "source": [
        "y_pred = classifier.predict(X_test)\n",
        "print(np.concatenate((y_pred.reshape(len(y_pred),1), y_test.reshape(len(y_test),1)),1))"
      ],
      "metadata": {
        "colab": {
          "base_uri": "https://localhost:8080/"
        },
        "id": "NGCmnmSfUJM5",
        "outputId": "58b8962e-ee8f-47ad-9a56-dbd21d5fbcc3"
      },
      "execution_count": null,
      "outputs": [
        {
          "output_type": "stream",
          "name": "stdout",
          "text": [
            "[[0 0]\n",
            " [0 1]\n",
            " [0 1]\n",
            " ...\n",
            " [0 1]\n",
            " [0 0]\n",
            " [0 1]]\n"
          ]
        }
      ]
    },
    {
      "cell_type": "code",
      "source": [
        "from sklearn.metrics import confusion_matrix, accuracy_score\n",
        "cm = confusion_matrix(y_test, y_pred)\n",
        "print(cm)\n",
        "accuracy_score(y_test, y_pred)"
      ],
      "metadata": {
        "colab": {
          "base_uri": "https://localhost:8080/"
        },
        "id": "PwCIVjB_1hZD",
        "outputId": "000217f5-bfe6-4caf-8e36-ceb9a52ad5ac"
      },
      "execution_count": null,
      "outputs": [
        {
          "output_type": "stream",
          "name": "stdout",
          "text": [
            "[[175003      0]\n",
            " [280306   9858]]\n"
          ]
        },
        {
          "output_type": "execute_result",
          "data": {
            "text/plain": [
              "0.39740781267802744"
            ]
          },
          "metadata": {},
          "execution_count": 18
        }
      ]
    },
    {
      "cell_type": "code",
      "source": [
        "# Random forest\n",
        "\n",
        "from sklearn.ensemble import RandomForestClassifier\n",
        "classifier = RandomForestClassifier(n_estimators = 5, criterion = 'entropy', random_state = 0)\n",
        "classifier.fit(X_train, y_train)"
      ],
      "metadata": {
        "colab": {
          "base_uri": "https://localhost:8080/"
        },
        "id": "L_ijTTpeiz80",
        "outputId": "fe9106ec-7cc5-4438-813e-3dd34a75ba4a"
      },
      "execution_count": null,
      "outputs": [
        {
          "output_type": "execute_result",
          "data": {
            "text/plain": [
              "RandomForestClassifier(criterion='entropy', n_estimators=5, random_state=0)"
            ]
          },
          "metadata": {},
          "execution_count": 19
        }
      ]
    },
    {
      "cell_type": "code",
      "source": [
        "y_pred = classifier.predict(X_test)\n",
        "print(np.concatenate((y_pred.reshape(len(y_pred),1), y_test.reshape(len(y_test),1)),1))"
      ],
      "metadata": {
        "colab": {
          "base_uri": "https://localhost:8080/"
        },
        "id": "Oy0h73YPi82i",
        "outputId": "cfe75002-c7a9-435b-b529-ce276a43e3dd"
      },
      "execution_count": null,
      "outputs": [
        {
          "output_type": "stream",
          "name": "stdout",
          "text": [
            "[[0 0]\n",
            " [1 1]\n",
            " [1 1]\n",
            " ...\n",
            " [1 1]\n",
            " [1 0]\n",
            " [1 1]]\n"
          ]
        }
      ]
    },
    {
      "cell_type": "code",
      "source": [
        "from sklearn.metrics import confusion_matrix, accuracy_score\n",
        "cm = confusion_matrix(y_test, y_pred)\n",
        "print(cm)\n",
        "accuracy_score(y_test, y_pred)"
      ],
      "metadata": {
        "colab": {
          "base_uri": "https://localhost:8080/"
        },
        "id": "lwjgrKKejBQB",
        "outputId": "fb94be05-25d4-419b-c2cb-48ddb96ef553"
      },
      "execution_count": null,
      "outputs": [
        {
          "output_type": "stream",
          "name": "stdout",
          "text": [
            "[[160522  14481]\n",
            " [  9871 280293]]\n"
          ]
        },
        {
          "output_type": "execute_result",
          "data": {
            "text/plain": [
              "0.9476489088864859"
            ]
          },
          "metadata": {},
          "execution_count": 21
        }
      ]
    },
    {
      "cell_type": "code",
      "source": [
        "# SVM\n",
        "\n",
        "# o SVM está demorando muito então pensei em diminuir a quantidade de teste para ele terminar de rodar\n",
        "X_SVM_train, X_SVM_test, y_SVM_train, y_SVM_test = train_test_split(X, y, test_size = 0.5, random_state = 1)\n",
        "\n",
        "from sklearn.svm import SVC\n",
        "classifier = SVC(kernel = 'linear', random_state = 0)\n",
        "classifier.fit(X_SVM_train, y_SVM_train)\n"
      ],
      "metadata": {
        "id": "2kBY2do-1PSp"
      },
      "execution_count": null,
      "outputs": []
    },
    {
      "cell_type": "code",
      "source": [
        "y_SVM_pred = classifier.predict(X_SVM_test)\n",
        "print(np.concatenate((y_SVM_pred.reshape(len(y_SVM_pred),1), y_test.reshape(len(y_SVM_test),1)),1))"
      ],
      "metadata": {
        "id": "7UeMOL_B1Yvq"
      },
      "execution_count": null,
      "outputs": []
    },
    {
      "cell_type": "code",
      "source": [
        "from sklearn.metrics import confusion_matrix, accuracy_score\n",
        "cm = confusion_matrix(y_SVM_test, y_pred)\n",
        "print(cm)\n",
        "accuracy_score(y_SVM_test, y_pred)"
      ],
      "metadata": {
        "id": "FyWDmnXv1ZUE"
      },
      "execution_count": null,
      "outputs": []
    },
    {
      "cell_type": "markdown",
      "source": [
        "# Avaliando o Modelo\n"
      ],
      "metadata": {
        "id": "RQSZBJ5vUqaq"
      }
    },
    {
      "cell_type": "markdown",
      "source": [
        "Confusion Matrix"
      ],
      "metadata": {
        "id": "7HxoQv96Utvu"
      }
    },
    {
      "cell_type": "code",
      "source": [
        "from sklearn.metrics import confusion_matrix, accuracy_score\n",
        "cm = confusion_matrix(y_test, y_pred)\n",
        "print(cm)\n",
        "accuracy_score(y_test, y_pred)"
      ],
      "metadata": {
        "id": "j7II8zZ-Uwdg"
      },
      "execution_count": null,
      "outputs": []
    },
    {
      "cell_type": "markdown",
      "source": [
        "# **Considerações finais**\n",
        "\n"
      ],
      "metadata": {
        "id": "0qRlypTCSlQz"
      }
    },
    {
      "cell_type": "markdown",
      "source": [
        "Foram testados dois modelos de classificação random forest e naive bayes. \n",
        "O reultado do Naives bayes foi um pouco baixo, com 39,7%, porém não apresentou falsos negativos, o que é importante caso a classificação errônea seja crítica para o planejamentos dos vôos.\n",
        "\n",
        "O resultado so random forest foi considerado bom, com acurácia de 94,7%, com alguns erros falsos positivos, porém pode ser interessante caso a classificação de falsos positivos não seja crítica para o planejamento dos vôos."
      ],
      "metadata": {
        "id": "N0BcIVcSk1yr"
      }
    }
  ]
}